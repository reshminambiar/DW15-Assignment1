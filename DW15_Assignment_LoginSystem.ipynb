{
  "nbformat": 4,
  "nbformat_minor": 0,
  "metadata": {
    "colab": {
      "name": "DW15_Assignment_LoginSystem.ipynb",
      "provenance": []
    },
    "kernelspec": {
      "name": "python3",
      "display_name": "Python 3"
    },
    "language_info": {
      "name": "python"
    }
  },
  "cells": [
    {
      "cell_type": "code",
      "source": [
        "import re\n",
        "import os.path"
      ],
      "metadata": {
        "id": "k8KLKH7xzRfZ"
      },
      "execution_count": null,
      "outputs": []
    },
    {
      "cell_type": "code",
      "execution_count": null,
      "metadata": {
        "id": "ZbtC71Lyyc2_"
      },
      "outputs": [],
      "source": [
        "def validate_pwd(password):\n",
        "    \"\"\"This function validates user password without using regular expressions\"\"\"\n",
        "    special_char = ['$', '#', '@', '!', '%', '&', '*']\n",
        "    valid = True\n",
        "    if(len(password) < 5):\n",
        "        print(\"The password should be have minimum 6 characters!\")\n",
        "        valid = False\n",
        "    if(len(password) > 16):\n",
        "        print(\"The password cannot have more than 16 characters!\")\n",
        "        valid = False\n",
        "    if not any(char.isupper() for char in password):\n",
        "        print(\"The password should contain atleast 1 uppercase letter!\")\n",
        "        valid = False\n",
        "    if not any(char.islower() for char in password):\n",
        "        print(\"The password should contain atleast 1 lowercase letter!\")\n",
        "        valid = False\n",
        "    if not any(char.isdigit() for char in password):\n",
        "        print(\"The password should contain atleast 1 digit!\")\n",
        "        valid = False\n",
        "    if not any(char in special_char for char in password):\n",
        "        print(\"The password should contain atleast 1 special character!\")\n",
        "        valid = False\n",
        "    return valid"
      ]
    },
    {
      "cell_type": "code",
      "source": [
        "def validate_user(username):\n",
        "    \"\"\"This function validates user email(username) using re module \"\"\"\n",
        "    \n",
        "    pattern = r'\\b[a-zA-Z][a-zA-Z0-9.%+_-]+@[a-zA-Z0-9.-]+\\.[a-z|A-Z]{2,}\\b'\n",
        "    if re.fullmatch(pattern, username):\n",
        "        return True\n",
        "    else:\n",
        "        return False"
      ],
      "metadata": {
        "id": "ooVDp4hKyuAg"
      },
      "execution_count": null,
      "outputs": []
    },
    {
      "cell_type": "code",
      "source": [
        "def register():\n",
        "    username = input(\"Enter your email(this will be your username): \")\n",
        "    password = input(\"Enter a password: \")\n",
        "    if os.path.exists('user_info.txt'):\n",
        "        if username in open('user_info.txt', 'r').read():\n",
        "            print('Username already exists')\n",
        "            return\n",
        "\n",
        "    if not (validate_user(username)):\n",
        "        print(\"Please enter a valid email !\")\n",
        "        return\n",
        "       \n",
        "    elif not(validate_pwd(password)):\n",
        "        print(\"Please enter a valid password !\")\n",
        "        return\n",
        "\n",
        "    else:\n",
        "        with open(\"user_info.txt\",\"a\") as f:\n",
        "            f.write(username+ \" \"+ password + \"\\n\")\n",
        "        print(\"You have successfully registered.\")\n",
        "        return"
      ],
      "metadata": {
        "id": "XnVTwtMay44v"
      },
      "execution_count": null,
      "outputs": []
    },
    {
      "cell_type": "code",
      "source": [
        "def login():\n",
        "    dict={}\n",
        "    if not os.path.exists('user_info.txt'):\n",
        "        print(\"kindly register before logging in.\")\n",
        "        return\n",
        "    else:\n",
        "        with open(\"user_info.txt\", \"r\") as f:\n",
        "            for each in f:\n",
        "                dict[each.split(' ')[0]] = each.split(' ')[1][:-1]\n",
        "    username = input(\"Enter your email: \")\n",
        "    password = input(\"Enter your password: \")\n",
        "    if (username not in dict):\n",
        "        print(\"User not found..Kindly register before logging in.\")\n",
        "        return\n",
        "    elif (dict[username] != password):\n",
        "        print(\"Incorrect password entered!\")\n",
        "        forget = input(\"Did you forget your password? (y/n)\")\n",
        "        if(forget == \"y\" or forget == \"Y\"):\n",
        "            print(\"Here's your password-\", dict[username])\n",
        "        elif(forget == \"n\" or forget == \"N\"):\n",
        "            return\n",
        "        else:\n",
        "            print(\"wrong entry\")\n",
        "            return\n",
        "    if(dict[username] == password):\n",
        "        print(\"You have successfully logged in.\")\n",
        "    \n"
      ],
      "metadata": {
        "id": "vH5cSX02zADS"
      },
      "execution_count": null,
      "outputs": []
    },
    {
      "cell_type": "code",
      "source": [
        "def main():\n",
        "    \"\"\"Program starts here.Call main() to start with\"\"\"\n",
        "    user_inp = input(\"Would you like to login(enter L) or register(enter R)? \")\n",
        "    if(user_inp == \"L\"):\n",
        "        login()\n",
        "    elif(user_inp == \"R\"):\n",
        "        register()\n",
        "    else:\n",
        "        print(\"wrong entry!\")"
      ],
      "metadata": {
        "id": "4WIpBWUMzEZz"
      },
      "execution_count": null,
      "outputs": []
    },
    {
      "cell_type": "code",
      "source": [
        "main()"
      ],
      "metadata": {
        "id": "Op1BG4YRza8l"
      },
      "execution_count": null,
      "outputs": []
    },
    {
      "cell_type": "code",
      "source": [
        ""
      ],
      "metadata": {
        "id": "vOSEUfl-zi3C"
      },
      "execution_count": null,
      "outputs": []
    }
  ]
}